{
 "cells": [
  {
   "cell_type": "code",
   "execution_count": null,
   "metadata": {},
   "outputs": [],
   "source": [
    "from src.guitar.Guitar import Guitar\n",
    "from src.hand.LeftFinger import LeftFinger\n",
    "from src.hand.LeftHand import LeftHand\n",
    "from src.guitar.GuitarString import createGuitarStrings\n",
    "from src.midi.midiToNote import midiToGuitarNotes,processedNotes\n",
    "from src.utils.utils import convertNotesToChord, convertChordTofingerPositions\n",
    "from src.HandPoseRecorder import HandPoseRecorder,HandPoseRecordPool\n",
    "import copy\n",
    "import time\n",
    "import itertools\n",
    "import json"
   ]
  },
  {
   "cell_type": "markdown",
   "metadata": {},
   "source": [
    "## Import Midi file 导入Midi文件\n",
    "Import midi file and convert it to a list of dict which including notes and beat. 导入midi文件，并将其转换为一个列表，这个列表里的元素是包含音符和节拍信息的字典。"
   ]
  },
  {
   "cell_type": "code",
   "execution_count": null,
   "metadata": {},
   "outputs": [],
   "source": [
    "midiFilePath = \"asset/Corridors Of Time Fingerstyle.mid\"\n",
    "filename = midiFilePath.split(\"/\")[-1].split(\".\")[0]\n",
    "\n",
    "GuitarNotes = midiToGuitarNotes(midiFilePath,useChannel=1)\n",
    "\n",
    "GuitarNotes"
   ]
  },
  {
   "cell_type": "markdown",
   "metadata": {},
   "source": [
    "## init guitar and handPoseRecordPool 初始化吉他和handPoseRecordPool\n",
    "init guitar with a list of string. here we use a standard 6-string guitar. 用一个字符串列表来初始化吉他。这里我们使用标准的6弦吉他。\n",
    "init the start hand pose. here we put a hand at barrel 0 and put fingers on string 3, which is G string. 初始化起始手型。在这里，我们将设定初始手型位置为第0品，并将手指放在第3弦上，也就是G弦上。\n",
    "\n",
    "handPoseRecordPool can init with param `size`, which is the size of the pool. Bigger size will cost more memory and more time but can calculate more possibilities. handPoseRecordPool可以通过参数`size`初始化，即池的大小。越大就会消耗更多的内存和时间，但可以计算更多可能性。"
   ]
  },
  {
   "cell_type": "code",
   "execution_count": null,
   "metadata": {},
   "outputs": [],
   "source": [
    "# 设定各弦音高\n",
    "guitar_string_list = createGuitarStrings([\"e\", \"b\", \"G\", \"D\", \"A\", \"E1\"])\n",
    "# 初始化吉它\n",
    "guitar = Guitar(guitar_string_list)\n",
    "# 设定各手指状态\n",
    "leftFingers = [\n",
    "    LeftFinger(1, guitar_string_list[1], 1),\n",
    "    LeftFinger(2, guitar_string_list[2], 2),\n",
    "    LeftFinger(3, guitar_string_list[3], 3),\n",
    "    LeftFinger(4, guitar_string_list[4], 4)\n",
    "]\n",
    "# 初始化左手\n",
    "initLeftHand = LeftHand(leftFingers)\n",
    "# 初始化第一个记录器\n",
    "handPoseRecord = HandPoseRecorder()\n",
    "handPoseRecord.addHandPose(initLeftHand, 0,0)\n",
    "# 初始化记录池\n",
    "handPoseRecordPool = HandPoseRecordPool(100)\n",
    "handPoseRecordPool.append(handPoseRecord)\n",
    "\n",
    "current_recoreder_num = 0\n",
    "previous_recoreder_num = 0"
   ]
  },
  {
   "cell_type": "markdown",
   "metadata": {},
   "source": [
    "## Calculate the possibility of hand pose 计算手型的可能性\n",
    "- For each notes, we calculate all possibile chords, which includes position infomations of notes on guitar. 对于每个音符，我们计算所有可能的和弦，包括音符在吉他上的位置信息。\n",
    "- For each chords, we calculate all possibile hand poses, which includes the position of fingers on guitar.\n",
    "- For each hand poses, we generate a LeftHand object if it is possible to play. 对于每个和弦，我们计算所有可能的手型，包括手指在吉他上的位置。\n",
    "- For each LeftHand object, we calculate entropy, the cost of switch hand pose. Then we append it to the handPoseRecord. 对于每个手型，如果可以演奏，我们就生成一个LeftHand对象。\n",
    "- For each handPoseRecord, we put it in the handPoseRecordPool if its entropy is lower than the record in the pool. 对于每个LeftHand对象，我们计算熵，即切换手型的成本。然后将其添加到handPoseRecord中。\n",
    "- After all notes are calculated, we get the best handPoseRecord from the pool. Then print the result. 计算完所有音符后，我们从池中获取最佳handPoseRecord，然后打印结果\n"
   ]
  },
  {
   "cell_type": "code",
   "execution_count": null,
   "metadata": {},
   "outputs": [],
   "source": [
    "for i in range(len(GuitarNotes)):\n",
    "    start_time = time.time()\n",
    "    guitarNote = GuitarNotes[i]\n",
    "    notes = guitarNote[\"notes\"]\n",
    "    real_time = guitarNote[\"real_time\"]\n",
    "    notes = processedNotes(notes)\n",
    "    \n",
    "    # calculate all possible chords, including the position information of notes on the guitar. 计算所有可能的和弦,包含音符在吉它上的位置信息。\n",
    "    chords = convertNotesToChord(notes, guitar)\n",
    "    \n",
    "    # init current record list. 记录池先更新初始化当前记录列表。\n",
    "    handPoseRecordPool.readyForRecord()\n",
    "    \n",
    "    fingerPositionsList = []\n",
    "    handPoseRecordCount = 0\n",
    "        \n",
    "    # calculate all possible fingerings, including the position information of fingers on the guitar. 计算所有可能的按法，包含手指在吉它上的位置信息。\n",
    "    for chord in chords:\n",
    "        fingberPositions = convertChordTofingerPositions(chord) \n",
    "        if len(fingberPositions) == 0:\n",
    "            continue       \n",
    "        fingerPositionsList += fingberPositions\n",
    "        \n",
    "    if len(fingerPositionsList) == 0:\n",
    "        print(\"当前时间是{real_time}，没有找到合适的按法。\")  \n",
    "    for handPoseRecord, fingerPositions in itertools.product(handPoseRecordPool.preHandPoseRecordPool, fingerPositionsList):\n",
    "        oldhand = handPoseRecord.currentHandPose()\n",
    "        # Iterate through the list of fingerings, generate a new LeftHand object based on the fingering. 遍历按法列表，根据按法生成新的LeftHand对象。\n",
    "        hand, entropy = oldhand.generateNextHands(\n",
    "            guitar, fingerPositions)\n",
    "        if hand is not None:                        \n",
    "            newHandPoseRecord = copy.deepcopy(handPoseRecord)\n",
    "            newHandPoseRecord.addHandPose(hand, entropy, real_time)\n",
    "            handPoseRecordPool.append(newHandPoseRecord)\n",
    "            handPoseRecordCount += 1\n",
    "    \n",
    "    end_time = time.time()\n",
    "    previous_recoreder_num = current_recoreder_num\n",
    "    current_recoreder_num = len(handPoseRecordPool.curHandPoseRecordPool)\n",
    "    if current_recoreder_num < previous_recoreder_num:\n",
    "        print(f\"当前record数量是{current_recoreder_num}，上一次record数量是{previous_recoreder_num}，这一轮操作一共append了{handPoseRecordCount}个record。\")\n",
    "    print(f\"当前时间是{real_time}，当前有{len(handPoseRecordPool.curHandPoseRecordPool)}个rerocder，耗时{end_time-start_time:.2f}秒。\")\n",
    "\n",
    "\n",
    "# after all iterations, read the best solution in the record pool. 全部遍历完以后，读取记录池中的最优解。\n",
    "bestHandPoseRecord = handPoseRecordPool.curHandPoseRecordPool[0]\n",
    "bestEntropy = bestHandPoseRecord.currentEntropy\n",
    "print(f\"最小消耗熵为：{bestEntropy}\")\n",
    "bestHandPoseRecord.output(True)\n",
    "bestHandPoseRecord.save(f\"output/{filename}_lefthand_recorder.json\")"
   ]
  },
  {
   "cell_type": "markdown",
   "metadata": {},
   "source": [
    "\n",
    "## Initialize Animation Values 初始化动画所需数值\n",
    "\n",
    "In Blender, by determining the positions of the following key points: IK pivot point, Y-axis rotation value, we can determine the entire left hand's posture. These key points are:\n",
    "在blender中，通过确定以下几个关键点的位置，ik轴点，y轴旋转值，就可以确定整个左手的状态，这几个关键点分别是：\n",
    "- Palm 手掌\n",
    "- Thumb 大拇指\n",
    "- Index finger 食指\n",
    "- Middle finger 中指\n",
    "- Ring finger 无名指\n",
    "- Pinky finger 小指\n",
    "\n",
    "There are four extreme positions of the hand shape, which are:\n",
    "而手型有四个极端位置，分别是：\n",
    "- Open string position on the 1st string 1弦空品\n",
    "- Open string position on the 6th string 6弦空品\n",
    "- 12th fret position on the 1st string 1弦12品\n",
    "- 12th fret position on the 6th string 6弦12品\n",
    "\n",
    "For each extreme position, we can adopt three methods to press the strings:\n",
    "而每个极端位置，我们都可以采用三种方式来按弦，分别是：\n",
    "- Index finger and middle finger on different frets, with the whole palm parallel to the neck 食指和中指在不同品上，整个手掌平行于琴颈\n",
    "- Index finger and middle finger on the same fret, with the index finger pointing outward and the middle finger pointing inward, requiring the palm to rotate at a certain angle 食指与中指同品，而食指向外，中指向内，此时手掌要旋转一定角度\n",
    "- Index finger and middle finger on the same fret, with the index finger pointing inward and the middle finger pointing outward, requiring the palm to rotate at a certain angle 食指与中指同品，而食指向内，中指向外，此时手掌要旋转一定角度\n",
    "\n",
    "In Blender, we record the values of all key points for these four extreme positions in three different ways, totaling 12 hand shapes. 在blender中，我们记录下来以上四个极端位置的三种不同方式下，所有关键点的值，共计12种手型。\n",
    "\n",
    "Through these 12 hand shapes, we can obtain the hand shape at any position through interpolation. 通过这12种手型，我们可以通过插值的方式，得到任意位置的手型。"
   ]
  },
  {
   "cell_type": "code",
   "execution_count": 1,
   "metadata": {},
   "outputs": [],
   "source": [
    "\n",
    "# frames per second. blender文件中的动画帧率\n",
    "FPS = 24\n",
    "\n",
    "midiFilePath = \"asset/Corridors Of Time Fingerstyle.mid\"\n",
    "filename = midiFilePath.split(\"/\")[-1].split(\".\")[0]\n",
    "\n",
    "recorder = f\"output/{filename}_lefthand_recorder.json\"\n",
    "animation = f\"output/{filename}_lefthand_animation.json\""
   ]
  },
  {
   "cell_type": "code",
   "execution_count": 2,
   "metadata": {},
   "outputs": [],
   "source": [
    "from src.animate.animate import leftHand2Animation\n",
    "leftHand2Animation(recorder, animation, FPS)"
   ]
  },
  {
   "cell_type": "markdown",
   "metadata": {},
   "source": [
    "## 计算左手的动作\n",
    "\n",
    "和计算右手的原理类似，我们的左手从一个初始手型开始，然后每一次需要拨弦时，就计算下一次可能有哪些拨弦手型，并且计算每个手型所消耗的熵，把这些手型都记录在一个rightHandRecorder里，最终反复迭代，选出消耗熵最小的拨弦序列。"
   ]
  },
  {
   "cell_type": "code",
   "execution_count": null,
   "metadata": {},
   "outputs": [],
   "source": [
    "from src.hand.RightHand import RightHand\n",
    "from src.HandPoseRecorder import RightHandRecorder,RightHandRecordPool\n",
    "initRightHand = RightHand(usedFingers=[],rightFingerPositions=[5,2,1,0])\n",
    "\n",
    "initRightHandRecorder = RightHandRecorder()\n",
    "initRightHandRecorder.addHandPose(initRightHand, 0,0)\n",
    "\n",
    "rightHandRecordPool = RightHandRecordPool(100)\n",
    "rightHandRecordPool.append(initRightHandRecorder)"
   ]
  },
  {
   "cell_type": "code",
   "execution_count": null,
   "metadata": {},
   "outputs": [],
   "source": [
    "rightHandRecordPool.curHandPoseRecordPool[0].handPoseList[0].output()"
   ]
  },
  {
   "cell_type": "code",
   "execution_count": null,
   "metadata": {},
   "outputs": [],
   "source": [
    "import json\n",
    "import time\n",
    "import copy\n",
    "\n",
    "\n",
    "\n",
    "from src.utils.utils import generatePossibleRightHands\n",
    "\n",
    "midiFilePath = \"asset/Corridors Of Time Fingerstyle.mid\"\n",
    "\n",
    "filename = midiFilePath.split(\"/\")[-1].split(\".\")[0]\n",
    "\n",
    "inputFile = f\"output/{filename}.json\"\n",
    "\n",
    "rightHandRecorderFile = f\"output/{filename}_righthand_recorder.json\"\n",
    "\n",
    "\n",
    "with open(inputFile, \"r\") as f:\n",
    "\n",
    "    data = json.load(f)\n",
    "\n",
    "    for item in data:\n",
    "        counter = 0\n",
    "        start_time = time.time()\n",
    "\n",
    "        real_time = item[\"real_time\"]\n",
    "\n",
    "        leftHand = item[\"leftHand\"]\n",
    "\n",
    "        usedStrings = []\n",
    "\n",
    "        for finger in leftHand:\n",
    "\n",
    "            if finger[\"fingerIndex\"] == -1 or finger[\"fingerInfo\"][\"press\"] != 0:\n",
    "\n",
    "                usedStrings.append(finger[\"fingerInfo\"][\"stringIndex\"])\n",
    "                \n",
    "        if usedStrings == []:\n",
    "            continue\n",
    "        print(real_time)\n",
    "        print(usedStrings)\n",
    "        rightHandRecordPool.readyForRecord()\n",
    "\n",
    "        allFingers = [\"p\",\"i\",\"m\",\"a\"]\n",
    "\n",
    "        allstrings = [0,1,2,3,4,5]\n",
    "\n",
    "        possibleRightHands = generatePossibleRightHands(\n",
    "\n",
    "            usedStrings, allFingers, allstrings)\n",
    "        \n",
    "\n",
    "        for rightHand in possibleRightHands:\n",
    "            for handRecorder in rightHandRecordPool.preHandPoseRecordPool:\n",
    "                newRecorder = copy.deepcopy(handRecorder)\n",
    "                lastHand = newRecorder.currentHandPose()\n",
    "                entropy = lastHand.caculateDiff(rightHand)\n",
    "                newRecorder.addHandPose(rightHand, entropy, real_time)\n",
    "                rightHandRecordPool.append(newRecorder)\n",
    "            \n",
    "        end_time = time.time()\n",
    "        print(f\"当前时间是{real_time}，当前有{len(rightHandRecordPool.curHandPoseRecordPool)}个rerocder，耗时{end_time-start_time:.2f}秒。\")"
   ]
  },
  {
   "cell_type": "code",
   "execution_count": null,
   "metadata": {},
   "outputs": [],
   "source": [
    "# after all iterations, read the best solution in the record pool. 全部遍历完以后，读取记录池中的最优解。\n",
    "bestHandPoseRecord = rightHandRecordPool.curHandPoseRecordPool[0]\n",
    "bestEntropy = bestHandPoseRecord.currentEntropy\n",
    "print(f\"最小消耗熵为：{bestEntropy}\")\n",
    "bestHandPoseRecord.output()\n",
    "bestHandPoseRecord.save(rightHandRecorderFile)"
   ]
  },
  {
   "cell_type": "code",
   "execution_count": 3,
   "metadata": {},
   "outputs": [],
   "source": [
    "FPS = 24\n",
    "\n",
    "midiFilePath = \"asset/Corridors Of Time Fingerstyle.mid\"\n",
    "filename = midiFilePath.split(\"/\")[-1].split(\".\")[0]\n",
    "\n",
    "recorder = f\"output/{filename}_righthand_recorder.json\"\n",
    "rightHandAnimationFile = f\"output/{filename}_righthand_animation.json\""
   ]
  },
  {
   "cell_type": "code",
   "execution_count": 4,
   "metadata": {},
   "outputs": [],
   "source": [
    "from src.animate.animate import rightHand2Animation\n",
    "rightHand2Animation(recorder, rightHandAnimationFile,FPS)"
   ]
  }
 ],
 "metadata": {
  "kernelspec": {
   "display_name": ".venv",
   "language": "python",
   "name": "python3"
  },
  "language_info": {
   "codemirror_mode": {
    "name": "ipython",
    "version": 3
   },
   "file_extension": ".py",
   "mimetype": "text/x-python",
   "name": "python",
   "nbconvert_exporter": "python",
   "pygments_lexer": "ipython3",
   "version": "3.10.6"
  }
 },
 "nbformat": 4,
 "nbformat_minor": 2
}
