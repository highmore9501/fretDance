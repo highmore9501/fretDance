{
 "cells": [
  {
   "cell_type": "code",
   "execution_count": null,
   "metadata": {},
   "outputs": [],
   "source": [
    "from src.guitar.Guitar import Guitar\n",
    "from src.hand.LeftFinger import LeftFinger\n",
    "from src.hand.LeftHand import LeftHand\n",
    "from src.guitar.GuitarString import createGuitarStrings\n",
    "from src.midi.midiToNote import midiToGuitarNotes, get_tempo_changes,calculate_frame\n",
    "from src.HandPoseRecorder import HandPoseRecorder,HandPoseRecordPool"
   ]
  },
  {
   "cell_type": "markdown",
   "metadata": {},
   "source": [
    "## Import Midi file 导入Midi文件\n",
    "Import midi file and convert it to a list of dict which including notes and beat. 导入midi文件，并将其转换为一个列表，这个列表里的元素是包含音符和节拍信息的字典。"
   ]
  },
  {
   "cell_type": "code",
   "execution_count": null,
   "metadata": {},
   "outputs": [],
   "source": [
    "# 设定演奏者\n",
    "avatar = 'asuka'\n",
    "# 设定midi文件路径\n",
    "midiFilePath = \"asset/midi/Sunburst.mid\"\n",
    "# 设定blender里的FPS\n",
    "FPS = 30\n",
    "# 设定各弦音高\n",
    "guitar_string_notes = [\"d\", \"b\", \"G\", \"D\", \"A\", \"D1\"]\n",
    "\n",
    "filename = midiFilePath.split(\"/\")[-1].split(\".\")[0]\n",
    "left_hand_recorder_file = f\"output/{filename}_lefthand_recorder.json\"\n",
    "left_hand_animation_file = f\"output/{avatar}_{filename}_lefthand_animation.json\"\n",
    "right_hand_recorder_file = f\"output/{filename}_righthand_recorder.json\"\n",
    "right_hand_animation_file = f\"output/{avatar}_{filename}_righthand_animation.json\"\n",
    "\n",
    "tempo_changes, ticks_per_beat = get_tempo_changes(midiFilePath)\n",
    "notes_map = midiToGuitarNotes(midiFilePath, useChannel=1)"
   ]
  },
  {
   "cell_type": "code",
   "execution_count": null,
   "metadata": {},
   "outputs": [],
   "source": [
    "print(f'全曲的速度变化是:')\n",
    "for track,tempo,tick in tempo_changes:\n",
    "    print(f'在{track}轨，tick为{tick}时，速度变为{tempo}')\n",
    "print(f'\\n全曲的每拍tick数是:{ticks_per_beat}\\n')\n",
    "total_tick = notes_map[-1]['real_tick']\n",
    "total_frame = calculate_frame(tempo_changes, ticks_per_beat, FPS,total_tick)\n",
    "total_time = total_frame/FPS\n",
    "print(f'如果以{FPS}的fps做成动画，一共是{total_tick} ticks, 合计{total_frame}帧, 约{total_time}秒')"
   ]
  },
  {
   "cell_type": "markdown",
   "metadata": {},
   "source": [
    "## init guitar and handPoseRecordPool 初始化吉他和handPoseRecordPool\n",
    "init guitar with a list of string. here we use a standard 6-string guitar. 用一个字符串列表来初始化吉他。这里我们使用标准的6弦吉他。\n",
    "init the start hand pose. here we put a hand at barrel 0 and put fingers on string 3, which is G string. 初始化起始手型。在这里，我们将设定初始手型位置为第0品，并将手指放在第3弦上，也就是G弦上。\n",
    "\n",
    "handPoseRecordPool can init with param `size`, which is the size of the pool. Bigger size will cost more memory and more time but can calculate more possibilities. handPoseRecordPool可以通过参数`size`初始化，即池的大小。越大就会消耗更多的内存和时间，但可以计算更多可能性。"
   ]
  },
  {
   "cell_type": "code",
   "execution_count": null,
   "metadata": {},
   "outputs": [],
   "source": [
    "\n",
    "guitar_string_list = createGuitarStrings(guitar_string_notes)\n",
    "# 初始化吉它\n",
    "guitar = Guitar(guitar_string_list)\n",
    "# 设定各手指状态\n",
    "leftFingers = [\n",
    "    LeftFinger(1, guitar_string_list[1], 1),\n",
    "    LeftFinger(2, guitar_string_list[2], 2),\n",
    "    LeftFinger(3, guitar_string_list[3], 3),\n",
    "    LeftFinger(4, guitar_string_list[4], 4)\n",
    "]\n",
    "# 初始化左手\n",
    "initLeftHand = LeftHand(leftFingers)\n",
    "# 初始化第一个记录器\n",
    "handPoseRecord = HandPoseRecorder()\n",
    "handPoseRecord.addHandPose(initLeftHand, 0,0)\n",
    "# 初始化记录池\n",
    "handPoseRecordPool = HandPoseRecordPool(100)\n",
    "handPoseRecordPool.insert_new_hand_pose_recorder(handPoseRecord,0)\n",
    "\n",
    "current_recoreder_num = 0\n",
    "previous_recoreder_num = 0"
   ]
  },
  {
   "cell_type": "markdown",
   "metadata": {},
   "source": [
    "## Calculate the possibility of hand pose 计算手型的可能性\n",
    "- For each notes, we calculate all possibile chords, which includes position infomations of notes on guitar. 对于每个音符，我们计算所有可能的和弦，包括音符在吉他上的位置信息。\n",
    "- For each chords, we calculate all possibile hand poses, which includes the position of fingers on guitar.\n",
    "- For each hand poses, we generate a LeftHand object if it is possible to play. 对于每个和弦，我们计算所有可能的手型，包括手指在吉他上的位置。\n",
    "- For each LeftHand object, we calculate entropy, the cost of switch hand pose. Then we append it to the handPoseRecord. 对于每个手型，如果可以演奏，我们就生成一个LeftHand对象。\n",
    "- For each handPoseRecord, we put it in the handPoseRecordPool if its entropy is lower than the record in the pool. 对于每个LeftHand对象，我们计算熵，即切换手型的成本。然后将其添加到handPoseRecord中。\n",
    "- After all notes are calculated, we get the best handPoseRecord from the pool. Then print the result. 计算完所有音符后，我们从池中获取最佳handPoseRecord，然后打印结果\n"
   ]
  },
  {
   "cell_type": "code",
   "execution_count": null,
   "metadata": {},
   "outputs": [],
   "source": [
    "from FretDaner import update_recorder_pool\n",
    "\n",
    "total_steps = len(notes_map)\n",
    "current_recoreder_num = 0\n",
    "previous_recoreder_num = current_recoreder_num\n",
    "\n",
    "update_recorder_pool(total_steps,guitar,handPoseRecordPool,notes_map, current_recoreder_num, previous_recoreder_num)\n",
    "\n",
    "\n",
    "# after all iterations, read the best solution in the recorder pool. 全部遍历完以后，读取记录池中的最优解。\n",
    "bestHandPoseRecord = handPoseRecordPool.curHandPoseRecordPool[0]\n",
    "bestEntropy = bestHandPoseRecord.currentEntropy\n",
    "print(f\"最小消耗熵为：{bestEntropy}\")\n",
    "bestHandPoseRecord.output(True)\n",
    "bestHandPoseRecord.save(left_hand_recorder_file,tempo_changes,ticks_per_beat,FPS)\n",
    "print(f\"总音符数应该为{total_steps}\")\n",
    "print(f\"实际输出音符数为{len(bestHandPoseRecord.handPoseList)}\")"
   ]
  },
  {
   "cell_type": "markdown",
   "metadata": {},
   "source": [
    "\n",
    "## Initialize Animation Values 初始化动画所需数值\n",
    "\n",
    "In Blender, by determining the positions of the following key points: IK pivot point, Y-axis rotation value, we can determine the entire left hand's posture. These key points are:\n",
    "在blender中，通过确定以下几个关键点的位置，ik轴点，y轴旋转值，就可以确定整个左手的状态，这几个关键点分别是：\n",
    "- Palm 手掌\n",
    "- Thumb 大拇指\n",
    "- Index finger 食指\n",
    "- Middle finger 中指\n",
    "- Ring finger 无名指\n",
    "- Pinky finger 小指\n",
    "\n",
    "There are four extreme positions of the hand shape, which are:\n",
    "而手型有四个极端位置，分别是：\n",
    "- Open string position on the 1st string 1弦空品\n",
    "- Open string position on the 6th string 6弦空品\n",
    "- 12th fret position on the 1st string 1弦12品\n",
    "- 12th fret position on the 6th string 6弦12品\n",
    "\n",
    "For each extreme position, we can adopt three methods to press the strings:\n",
    "而每个极端位置，我们都可以采用三种方式来按弦，分别是：\n",
    "- Index finger and middle finger on different frets, with the whole palm parallel to the neck 食指和中指在不同品上，整个手掌平行于琴颈\n",
    "- Index finger and middle finger on the same fret, with the index finger pointing outward and the middle finger pointing inward, requiring the palm to rotate at a certain angle 食指与中指同品，而食指向外，中指向内，此时手掌要旋转一定角度\n",
    "- Index finger and middle finger on the same fret, with the index finger pointing inward and the middle finger pointing outward, requiring the palm to rotate at a certain angle 食指与中指同品，而食指向内，中指向外，此时手掌要旋转一定角度\n",
    "\n",
    "In Blender, we record the values of all key points for these four extreme positions in three different ways, totaling 12 hand shapes. 在blender中，我们记录下来以上四个极端位置的三种不同方式下，所有关键点的值，共计12种手型。\n",
    "\n",
    "Through these 12 hand shapes, we can obtain the hand shape at any position through interpolation. 通过这12种手型，我们可以通过插值的方式，得到任意位置的手型。"
   ]
  },
  {
   "cell_type": "code",
   "execution_count": null,
   "metadata": {},
   "outputs": [],
   "source": [
    "from src.animate.animate import leftHand2Animation\n",
    "# 生成动画文件\n",
    "\n",
    "leftHand2Animation(avatar,left_hand_recorder_file, left_hand_animation_file, tempo_changes, ticks_per_beat, FPS)"
   ]
  },
  {
   "cell_type": "markdown",
   "metadata": {},
   "source": [
    "## Calculate the right-hand movements 计算右手的动作\n",
    "\n",
    "Similar to the principle of calculating the left hand, our left hand starts from an initial hand shape. Then, each time a string needs to be strummed, we calculate the possible next strumming hand shapes and the entropy consumed by each hand shape. These hand shapes are recorded in a rightHandRecorderPool. Ultimately, through repeated iteration, the strumming sequence that consumes the least entropy is selected.\n",
    "\n",
    "和计算左手的原理类似，我们的左手从一个初始手型开始，然后每一次需要拨弦时，就计算下一次可能有哪些拨弦手型，并且计算每个手型所消耗的熵，把这些手型都记录在一个rightHandRecorderPool里，最终反复迭代，选出消耗熵最小的拨弦序列。"
   ]
  },
  {
   "cell_type": "code",
   "execution_count": null,
   "metadata": {},
   "outputs": [],
   "source": [
    "from src.hand.RightHand import RightHand\n",
    "from src.HandPoseRecorder import RightHandRecorder,HandPoseRecordPool\n",
    "initRightHand = RightHand(usedFingers=[],rightFingerPositions=[5,2,1,0])\n",
    "\n",
    "initRightHandRecorder = RightHandRecorder()\n",
    "initRightHandRecorder.addHandPose(initRightHand, 0,0)\n",
    "\n",
    "rightHandRecordPool = HandPoseRecordPool(100)\n",
    "rightHandRecordPool.insert_new_hand_pose_recorder(initRightHandRecorder,0)"
   ]
  },
  {
   "cell_type": "code",
   "execution_count": null,
   "metadata": {},
   "outputs": [],
   "source": [
    "from FretDaner import update_right_hand_recorder_pool\n",
    "\n",
    "\n",
    "update_right_hand_recorder_pool(\n",
    "    left_hand_recorder_file, rightHandRecordPool, current_recoreder_num, previous_recoreder_num)\n",
    "\n",
    "# after all iterations, read the best solution in the record pool. 全部遍历完以后，读取记录池中的最优解。\n",
    "bestHandPoseRecord = rightHandRecordPool.curHandPoseRecordPool[0]\n",
    "bestEntropy = bestHandPoseRecord.currentEntropy\n",
    "print(f\"最小消耗熵为：{bestEntropy}\")\n",
    "bestHandPoseRecord.output()\n",
    "bestHandPoseRecord.save(right_hand_recorder_file,tempo_changes,ticks_per_beat,FPS)"
   ]
  },
  {
   "cell_type": "code",
   "execution_count": null,
   "metadata": {},
   "outputs": [],
   "source": [
    "from src.animate.animate import rightHand2Animation\n",
    "\n",
    "rightHand2Animation(avatar,right_hand_recorder_file,\n",
    "                    right_hand_animation_file, tempo_changes, ticks_per_beat, FPS)"
   ]
  }
 ],
 "metadata": {
  "kernelspec": {
   "display_name": ".venv",
   "language": "python",
   "name": "python3"
  },
  "language_info": {
   "codemirror_mode": {
    "name": "ipython",
    "version": 3
   },
   "file_extension": ".py",
   "mimetype": "text/x-python",
   "name": "python",
   "nbconvert_exporter": "python",
   "pygments_lexer": "ipython3",
   "version": "3.10.6"
  }
 },
 "nbformat": 4,
 "nbformat_minor": 2
}
